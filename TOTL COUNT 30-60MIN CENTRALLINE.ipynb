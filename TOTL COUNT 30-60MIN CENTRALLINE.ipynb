{
 "cells": [
  {
   "cell_type": "code",
   "execution_count": 6,
   "id": "917f6ca5-35d6-4aec-80be-bc6b684fec7a",
   "metadata": {},
   "outputs": [
    {
     "name": "stdout",
     "output_type": "stream",
     "text": [
      "Filtered data saved to: D:\\data\\filtered_station_pincode_counts.xlsx\n"
     ]
    }
   ],
   "source": [
    "import pandas as pd\n",
    "\n",
    "# Load the Excel file\n",
    "file_path = r\"D:\\data\\Central line 30-60min TYBMS.xlsx\"  # Replace with your file path\n",
    "df = pd.read_excel(file_path)\n",
    "\n",
    "# Ensure Pincode column is treated as integers\n",
    "if df['PINCODE'].dtype != 'int64':  # Convert to integers if needed\n",
    "    df['PINCODE'] = pd.to_numeric(df['PINCODE'], errors='coerce', downcast='integer')\n",
    "\n",
    "# Specify the pincodes to include\n",
    "desired_pincodes = [\n",
    "    421204, 421301, 421202, 421203, 421201, 421306, 421002, 421004, 421103\n",
    "]\n",
    "\n",
    "# Filter the data to include only the specified pincodes\n",
    "filtered_df = df[df['PINCODE'].isin(desired_pincodes)]\n",
    "\n",
    "# Define the station-pincode mapping for only the required data\n",
    "station_pincode_mapping = [\n",
    "    {\"STATION\": \"Dombivali East\", \"PINCODE\": 421204},\n",
    "    {\"STATION\": \"Kalyan\", \"PINCODE\": 421301},\n",
    "    {\"STATION\": \"Dombivali\", \"PINCODE\": 421202},\n",
    "    {\"STATION\": \"Dombivali\", \"PINCODE\": 421203},\n",
    "    {\"STATION\": \"Dombivali\", \"PINCODE\": 421201},\n",
    "    {\"STATION\": \"Kalyan East\", \"PINCODE\": 421306},\n",
    "    {\"STATION\": \"Ulhasnagar\", \"PINCODE\": 421002},\n",
    "    {\"STATION\": \"Ulhasnagar\", \"PINCODE\": 421004},\n",
    "    {\"STATION\": \"Shahad Ullhasnagar Kalyan\", \"PINCODE\": 421103},\n",
    "]\n",
    "\n",
    "# Create a DataFrame from the mapping\n",
    "mapping_df = pd.DataFrame(station_pincode_mapping)\n",
    "\n",
    "# Merge the mapping with the filtered data\n",
    "merged_df = pd.merge(filtered_df, mapping_df, on=\"PINCODE\", how=\"left\")\n",
    "\n",
    "# Group by Station and Pincode to calculate counts\n",
    "result_df = merged_df.groupby([\"STATION\", \"PINCODE\"]).size().reset_index(name=\"COUNT\")\n",
    "\n",
    "# Enforce the desired order\n",
    "desired_order = {entry[\"PINCODE\"]: index for index, entry in enumerate(station_pincode_mapping)}\n",
    "result_df[\"ORDER\"] = result_df[\"PINCODE\"].map(desired_order)\n",
    "result_df = result_df.sort_values(by=\"ORDER\").drop(columns=[\"ORDER\"])\n",
    "\n",
    "# Save the resulting DataFrame to an Excel file\n",
    "output_file = r\"D:\\data\\filtered_station_pincode_counts.xlsx\"\n",
    "result_df.to_excel(output_file, index=False, engine=\"openpyxl\")\n",
    "\n",
    "print(f\"Filtered data saved to: {output_file}\")\n"
   ]
  },
  {
   "cell_type": "code",
   "execution_count": null,
   "id": "28301bea-c80c-4e35-ad25-08d7bb882fbd",
   "metadata": {},
   "outputs": [],
   "source": []
  }
 ],
 "metadata": {
  "kernelspec": {
   "display_name": "Python 3 (ipykernel)",
   "language": "python",
   "name": "python3"
  },
  "language_info": {
   "codemirror_mode": {
    "name": "ipython",
    "version": 3
   },
   "file_extension": ".py",
   "mimetype": "text/x-python",
   "name": "python",
   "nbconvert_exporter": "python",
   "pygments_lexer": "ipython3",
   "version": "3.12.7"
  }
 },
 "nbformat": 4,
 "nbformat_minor": 5
}
