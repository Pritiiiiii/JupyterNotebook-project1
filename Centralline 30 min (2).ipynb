{
 "cells": [
  {
   "cell_type": "code",
   "execution_count": 1,
   "id": "457c6454-5bf8-4879-b55f-4ece0fcdc6ba",
   "metadata": {},
   "outputs": [
    {
     "name": "stdout",
     "output_type": "stream",
     "text": [
      "Original Data Sample:\n",
      "                               INSTITUTE NAME            STUDENT NAME  GENDER  \\\n",
      "0  Aakash Degree College of Commerce, Andheri  AGRE PRIYANKA RAVINDRA  Female   \n",
      "1  Aakash Degree College of Commerce, Andheri   BHAGAT ROSHANI SANJAY  Female   \n",
      "2  Aakash Degree College of Commerce, Andheri    BHATRE SNEHA SANDEEP  Female   \n",
      "3  Aakash Degree College of Commerce, Andheri   BUKNOR SHRUTI JAGDISH  Female   \n",
      "4  Aakash Degree College of Commerce, Andheri    CHAWAN KIRTI KAILASH  Female   \n",
      "\n",
      "                                             ADDRESS   PINCODE      MOBILE  \\\n",
      "0             Room No 3 Dr.Lelewadi  Marol Pipe Line  400059.0  9324064100   \n",
      "1  01 Girilal Yadav Chawl Azad Road  Near Hanuman...  400069.0  9768209612   \n",
      "2  Rm N-1Malpa Dongri Govind Bathre Chawl   Andhe...  400093.0  9137203784   \n",
      "3        465 Navjot Chawl ,Shivaji Nagar  Marol Gaon  400059.0  7304814565   \n",
      "4          153 Tarabai Chawl, Saki Vihar Road ,Powai  400072.0  9820731605   \n",
      "\n",
      "                       EMAIL       COURSE  \n",
      "0  priyankaagre056@gamil.com  T.Y. B.Com.  \n",
      "1  rahul1111bhagat@gmail.com  T.Y. B.Com.  \n",
      "2      snehabhatre@gmail.com  T.Y. B.Com.  \n",
      "3  shrutibuknor107@gmail.com  T.Y. B.Com.  \n",
      "4   karanchawan017@gmail.com  T.Y. B.Com.  \n",
      "Pincode List:\n",
      "[400024, 400072, 400070, 400022, 400019, 400014, 400028, 400012, 400013, 400008, 400011, 400027, 400033, 400009, 400003, 400001, 400077, 400086, 400075, 400083, 400079, 400042, 400072, 400080, 400082, 400081, 400601, 400602, 400603, 400604, 400605, 400606, 400607, 400608, 400610, 400612, 400615]\n",
      "\n",
      "Filtered Data Sample:\n",
      "                                INSTITUTE NAME               STUDENT NAME  \\\n",
      "4   Aakash Degree College of Commerce, Andheri       CHAWAN KIRTI KAILASH   \n",
      "12  Aakash Degree College of Commerce, Andheri     GAWDE LEENA BALKRUSHNA   \n",
      "20  Aakash Degree College of Commerce, Andheri         JADHAV VIJAY JAGAN   \n",
      "24  Aakash Degree College of Commerce, Andheri        KAMBLE AJAY AVINASH   \n",
      "28  Aakash Degree College of Commerce, Andheri  KHANDEKAR SAMIKSHA SUDHIR   \n",
      "\n",
      "    GENDER                                            ADDRESS   PINCODE  \\\n",
      "4   Female          153 Tarabai Chawl, Saki Vihar Road ,Powai  400072.0   \n",
      "12  Female      14F /404 SANGHARSH NAGAR CHANDIVALI FARM ROAD  400072.0   \n",
      "20    Male  CHAWL NO 4, PIPE LINE KARUNA NAGAR PIPE LINE S...  400072.0   \n",
      "24    Male  14-B-006, Ganmurti C.H.S Sangharsh Nagar, Farm...  400072.0   \n",
      "28  Female  ROOM NO 6 CHAWL NO 9   GANESH PADA MILATRY ROA...  400072.0   \n",
      "\n",
      "        MOBILE                           EMAIL       COURSE  \n",
      "4   9820731605        karanchawan017@gmail.com  T.Y. B.Com.  \n",
      "12  8424856275          leenagawde77@gmail.com  T.Y. B.Com.  \n",
      "20  7738061494               vj45493@gmail.com  T.Y. B.Com.  \n",
      "24  8425997421           ajkamble668@gmail.com  T.Y. B.Com.  \n",
      "28  9321619218  khandekarsamiksha161@gmail.com  T.Y. B.Com.  \n",
      "\n",
      "Filtered data saved to: D:\\data\\filtered_data.xlsx\n"
     ]
    }
   ],
   "source": [
    "import pandas as pd\n",
    "\n",
    "# Load the Excel file\n",
    "file_path = r\"D:\\data\\TYBcom.xlsx\"  # Replace with your file path\n",
    "df = pd.read_excel(file_path)\n",
    "\n",
    "# Display a sample of the data for debugging\n",
    "print(\"Original Data Sample:\")\n",
    "print(df.head())\n",
    "\n",
    "# Ensure Pincode column is treated as integers40\n",
    "if df['PINCODE'].dtype != 'int64':  # Convert to integers if needed\n",
    "    df['PINCODE'] = pd.to_numeric(df['PINCODE'], errors='coerce', downcast='integer')\n",
    "\n",
    "# Hardcoded pincodes for testing (replace with user input if needed)\n",
    "user_input = \"400024, 400072, 400070, 400022, 400019, 400014, 400028, 400012, 400013, 400008, 400011, 400027, 400033, 400009, 400003, 400001, 400077, 400086, 400075, 400083, 400079, 400042, 400072, 400080, 400082, 400081, 400601, 400602, 400603, 400604, 400605, 400606, 400607, 400608, 400610, 400612, 400615\"\n",
    "pincode_list = [int(pincode.strip()) for pincode in user_input.split(',')]  # Convert user input to integers\n",
    "\n",
    "# Debug: Display Pincode List\n",
    "print(\"Pincode List:\")\n",
    "print(pincode_list)\n",
    "\n",
    "# Filter the data\n",
    "filtered_df = df[df['PINCODE'].isin(pincode_list)]\n",
    "\n",
    "# Debug: Display Filtered Data\n",
    "print(\"\\nFiltered Data Sample:\")\n",
    "print(filtered_df.head())\n",
    "\n",
    "# Check if filtered data is empty\n",
    "if filtered_df.empty:\n",
    "    print(\"No matching data found for the provided pincodes.\")\n",
    "else:\n",
    "    # Save to a new Excel file\n",
    "    output_file = r\"D:\\data\\filtered_data.xlsx\"\n",
    "    filtered_df.to_excel(output_file, index=False, engine='openpyxl')  # Specify the engine explicitly\n",
    "    print(f\"\\nFiltered data saved to: {output_file}\")\n"
   ]
  },
  {
   "cell_type": "code",
   "execution_count": 3,
   "id": "6a6fc3d7-0998-4485-8144-e43ce3236623",
   "metadata": {},
   "outputs": [
    {
     "ename": "SyntaxError",
     "evalue": "invalid syntax (34316884.py, line 1)",
     "output_type": "error",
     "traceback": [
      "\u001b[1;36m  Cell \u001b[1;32mIn[3], line 1\u001b[1;36m\u001b[0m\n\u001b[1;33m    git init\u001b[0m\n\u001b[1;37m        ^\u001b[0m\n\u001b[1;31mSyntaxError\u001b[0m\u001b[1;31m:\u001b[0m invalid syntax\n"
     ]
    }
   ],
   "source": [
    "\n"
   ]
  },
  {
   "cell_type": "code",
   "execution_count": null,
   "id": "96b5368e-9d31-4696-9d26-d9814b327c75",
   "metadata": {},
   "outputs": [],
   "source": []
  },
  {
   "cell_type": "code",
   "execution_count": null,
   "id": "f06a769e-908c-4fe0-b1b4-8ab08d249179",
   "metadata": {},
   "outputs": [],
   "source": []
  },
  {
   "cell_type": "code",
   "execution_count": null,
   "id": "6bc30385-f5c8-4b78-8ae9-9ead32b17266",
   "metadata": {},
   "outputs": [],
   "source": []
  }
 ],
 "metadata": {
  "kernelspec": {
   "display_name": "Python 3 (ipykernel)",
   "language": "python",
   "name": "python3"
  },
  "language_info": {
   "codemirror_mode": {
    "name": "ipython",
    "version": 3
   },
   "file_extension": ".py",
   "mimetype": "text/x-python",
   "name": "python",
   "nbconvert_exporter": "python",
   "pygments_lexer": "ipython3",
   "version": "3.12.7"
  }
 },
 "nbformat": 4,
 "nbformat_minor": 5
}
